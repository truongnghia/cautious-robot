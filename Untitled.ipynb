{
 "cells": [
  {
   "cell_type": "code",
   "execution_count": null,
   "id": "eb0e47de-9dd9-4fda-bf07-f19157d908e5",
   "metadata": {},
   "outputs": [],
   "source": [
    "1000000"
   ]
  },
  {
   "cell_type": "code",
   "execution_count": null,
   "id": "24ac4249-8659-4a17-b7c8-61e0c956fed9",
   "metadata": {},
   "outputs": [],
   "source": [
    "1000000"
   ]
  },
  {
   "cell_type": "code",
   "execution_count": null,
   "id": "0eadf32e-0815-4bb7-ac8d-96f13da50817",
   "metadata": {},
   "outputs": [],
   "source": [
    "1000000"
   ]
  },
  {
   "cell_type": "code",
   "execution_count": null,
   "id": "99fe78a2-c9c6-4e0b-8056-1ac713d449bd",
   "metadata": {},
   "outputs": [],
   "source": [
    "1000000"
   ]
  }
 ],
 "metadata": {
  "kernelspec": {
   "display_name": "Python 3 (ipykernel)",
   "language": "python",
   "name": "python3"
  },
  "language_info": {
   "codemirror_mode": {
    "name": "ipython",
    "version": 3
   },
   "file_extension": ".py",
   "mimetype": "text/x-python",
   "name": "python",
   "nbconvert_exporter": "python",
   "pygments_lexer": "ipython3",
   "version": "3.10.4"
  }
 },
 "nbformat": 4,
 "nbformat_minor": 5
}
